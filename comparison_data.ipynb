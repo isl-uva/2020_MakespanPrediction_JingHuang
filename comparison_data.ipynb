{
 "cells": [
  {
   "cell_type": "markdown",
   "metadata": {},
   "source": [
    "# Construct Comparison Dataset"
   ]
  },
  {
   "cell_type": "code",
   "execution_count": 1,
   "metadata": {},
   "outputs": [],
   "source": [
    "import numpy as np\n",
    "import json\n",
    "import os"
   ]
  },
  {
   "cell_type": "code",
   "execution_count": null,
   "metadata": {},
   "outputs": [],
   "source": [
    "if not os.path.exists('comparison_data'):\n",
    "    os.makedirs('comparison_data')"
   ]
  },
  {
   "cell_type": "markdown",
   "metadata": {},
   "source": [
    "## Read Data"
   ]
  },
  {
   "cell_type": "code",
   "execution_count": 3,
   "metadata": {},
   "outputs": [
    {
     "name": "stdout",
     "output_type": "stream",
     "text": [
      "52881 datapoints in original dataset\n"
     ]
    }
   ],
   "source": [
    "d = './data'\n",
    "\n",
    "with open(d+'/x_node_type.json', 'r') as fname:\n",
    "    x_typ = json.load(fname)\n",
    "\n",
    "            \n",
    "with open(d+'/x_node_feature.json', 'r') as fname:\n",
    "    x_ftr = json.load(fname)\n",
    "        \n",
    "        \n",
    "with open(d+'/y_location.json', 'r') as fname:\n",
    "    y_loc = json.load(fname)\n",
    "    \n",
    "    \n",
    "with open(d+'/y_makespan.json', 'r') as fname:\n",
    "    y_mkp = json.load(fname)\n",
    "\n",
    "n = len(x_typ)\n",
    "\n",
    "print(\"%g datapoints in original dataset\" % n)\n"
   ]
  },
  {
   "cell_type": "markdown",
   "metadata": {},
   "source": [
    "## Construct a Non-sequential Dataset\n",
    "**x**\n",
    "\n",
    "- buffer level -- each buffer\n",
    "- machine status -- each machine\n",
    "- machine ratio -- each machine\n",
    "- aggregated processing time -- each buffer\n",
    "- product index\n",
    "    \n",
    "**y**\n",
    "- makespan\n"
   ]
  },
  {
   "cell_type": "markdown",
   "metadata": {},
   "source": [
    "Shuffling data with same seed in PCT main model"
   ]
  },
  {
   "cell_type": "code",
   "execution_count": 7,
   "metadata": {},
   "outputs": [],
   "source": [
    "def shuffle(arr, N, seed=123):\n",
    "    idx = np.arange(N)\n",
    "    np.random.seed(seed)\n",
    "    np.random.shuffle(idx)\n",
    "    \n",
    "    res = []\n",
    "    for data in arr:\n",
    "        res.append(data[idx])\n",
    "    \n",
    "    return res\n"
   ]
  },
  {
   "cell_type": "code",
   "execution_count": 8,
   "metadata": {},
   "outputs": [],
   "source": [
    "N = len(x_ftr)\n",
    "\n",
    "x_typ = np.array(x_typ)\n",
    "x_ftr = np.array(x_ftr)\n",
    "y_loc = np.array(y_loc)\n",
    "y_mkp = np.array(y_mkp)\n",
    "\n",
    "[x_ftr, x_typ, y_loc, y_mkp] = shuffle([x_ftr, x_typ, y_loc, y_mkp], N)"
   ]
  },
  {
   "cell_type": "code",
   "execution_count": 11,
   "metadata": {},
   "outputs": [],
   "source": [
    "def data(x_typ, x_ftr, y_loc, y_mkp, name):\n",
    "    x = []\n",
    "    y_of_loc = []\n",
    "    y_of_mkp = []\n",
    "\n",
    "    #for i in range(len(x_typ)):\n",
    "    for i in range(len(x_typ)):\n",
    "        x_item = []\n",
    "\n",
    "        # Buffer level\n",
    "        bl = []\n",
    "        b = 0\n",
    "        # Machine status\n",
    "        ms = []\n",
    "        # Progress\n",
    "        pg = []\n",
    "\n",
    "        # Processing Time\n",
    "        pt = np.zeros(8)\n",
    "        ppt = []\n",
    "\n",
    "        yy_loc = []\n",
    "        yy_mkp = []\n",
    "        q = 0\n",
    "        for j in range(len(x_typ[i])):\n",
    "\n",
    "            if x_typ[i][j] == [1]:\n",
    "\n",
    "                q += 1\n",
    "\n",
    "                pt += np.array(x_ftr[i][j][2:])\n",
    "                # Product\n",
    "                b += 1\n",
    "\n",
    "                yy_loc.append(y_loc[i][j])\n",
    "                yy_mkp.append(y_mkp[i][j])\n",
    "\n",
    "\n",
    "            else:\n",
    "                # Machine\n",
    "                ms.append(x_ftr[i][j][0])\n",
    "                pg.append(x_ftr[i][j][1])\n",
    "\n",
    "\n",
    "\n",
    "                if j > 0:\n",
    "                    bl.append(b)\n",
    "                    b = 0\n",
    "                    ppt = ppt + (pt.tolist())\n",
    "                    pt = np.zeros(8)\n",
    "\n",
    "        x_item = bl + ms + pg + ppt   \n",
    "\n",
    "        y_of_loc += yy_loc\n",
    "        y_of_mkp += yy_mkp\n",
    "\n",
    "\n",
    "        for j in range(q):\n",
    "            x.append(x_item + [j])\n",
    "\n",
    "    x = np.array(x)\n",
    "    y_of_loc = np.array(y_of_loc)\n",
    "    y_of_mkp = np.array(y_of_mkp)\n",
    "\n",
    "\n",
    "    with open('./comparison_data/'+ name + '_x.npy', 'wb') as fname:\n",
    "        np.save(fname, x)\n",
    "\n",
    "    with open('./comparison_data/' + name + '_y_loc.npy', 'wb') as fname:\n",
    "        np.save(fname, y_of_loc)\n",
    "\n",
    "    with open('./comparison_data/' + name + '_y_mkp.npy', 'wb') as fname:\n",
    "        np.save(fname, y_of_mkp)\n",
    "    \n",
    "    print(name + ' data stored')\n",
    "\n",
    "    "
   ]
  },
  {
   "cell_type": "markdown",
   "metadata": {},
   "source": [
    "# Spliting Data\n",
    "Split data with the same ratio (70:30) in main model"
   ]
  },
  {
   "cell_type": "code",
   "execution_count": 12,
   "metadata": {},
   "outputs": [
    {
     "name": "stdout",
     "output_type": "stream",
     "text": [
      "train data stored\n",
      "test data stored\n"
     ]
    }
   ],
   "source": [
    "N_train = int(N * 0.7)\n",
    "\n",
    "data(x_typ[:N_train], x_ftr[:N_train], y_loc[:N_train], y_mkp[:N_train], 'train')\n",
    "data(x_typ[N_train:], x_ftr[N_train:], y_loc[N_train:], y_mkp[N_train:], 'test')"
   ]
  },
  {
   "cell_type": "code",
   "execution_count": null,
   "metadata": {},
   "outputs": [],
   "source": []
  }
 ],
 "metadata": {
  "kernelspec": {
   "display_name": "Tensorflow 2.1/Keras Py3.7",
   "language": "python",
   "name": "tensorflow210_py37"
  },
  "language_info": {
   "codemirror_mode": {
    "name": "ipython",
    "version": 3
   },
   "file_extension": ".py",
   "mimetype": "text/x-python",
   "name": "python",
   "nbconvert_exporter": "python",
   "pygments_lexer": "ipython3",
   "version": "3.7.5"
  }
 },
 "nbformat": 4,
 "nbformat_minor": 4
}
